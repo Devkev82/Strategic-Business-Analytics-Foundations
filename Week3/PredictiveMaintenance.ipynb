{
 "cells": [
  {
   "cell_type": "code",
   "execution_count": 15,
   "id": "a1785aa5-a897-4304-814f-4ae540858a5e",
   "metadata": {},
   "outputs": [],
   "source": [
    "import numpy as np\n",
    "import pandas as pd\n",
    "import statsmodels.formula.api as smf\n",
    "import matplotlib.pyplot as plt\n",
    "from lifelines import KaplanMeierFitter"
   ]
  },
  {
   "cell_type": "code",
   "execution_count": 2,
   "id": "071b08fc-2650-412d-9273-0d2c9db4a3db",
   "metadata": {},
   "outputs": [],
   "source": [
    "plt.rcParams[\"figure.figsize\"] = (12,8)"
   ]
  },
  {
   "cell_type": "markdown",
   "id": "9a777c21-a9df-4e3f-b541-888a95cb5548",
   "metadata": {},
   "source": [
    "# Example Nr. 3 - Predictive Maintenance\n",
    "\n",
    "In this third example we're going to explore the predictive maintenance example that was presented in class.  \n",
    "\n",
    "The focus is on learning how to perform a survival analysis in arc in order to obtain the same results shown to you during the lecture and for you to be able to perform your own survival analysis on your own datasets. \n",
    "\n",
    "Bear in mind that our issue in this example is to estimate the remaining lifetime of our PCs, so we can better organize our maintenance efforts."
   ]
  },
  {
   "cell_type": "code",
   "execution_count": 3,
   "id": "901dac6c-5d31-49da-b41d-0c54aae54b98",
   "metadata": {},
   "outputs": [
    {
     "data": {
      "text/html": [
       "<div>\n",
       "<style scoped>\n",
       "    .dataframe tbody tr th:only-of-type {\n",
       "        vertical-align: middle;\n",
       "    }\n",
       "\n",
       "    .dataframe tbody tr th {\n",
       "        vertical-align: top;\n",
       "    }\n",
       "\n",
       "    .dataframe thead th {\n",
       "        text-align: right;\n",
       "    }\n",
       "</style>\n",
       "<table border=\"1\" class=\"dataframe\">\n",
       "  <thead>\n",
       "    <tr style=\"text-align: right;\">\n",
       "      <th></th>\n",
       "      <th>lifetime</th>\n",
       "      <th>broken</th>\n",
       "      <th>pressureInd</th>\n",
       "      <th>moistureInd</th>\n",
       "      <th>temperatureInd</th>\n",
       "      <th>team</th>\n",
       "      <th>provider</th>\n",
       "    </tr>\n",
       "  </thead>\n",
       "  <tbody>\n",
       "    <tr>\n",
       "      <th>0</th>\n",
       "      <td>56</td>\n",
       "      <td>0</td>\n",
       "      <td>92.178854</td>\n",
       "      <td>104.230204</td>\n",
       "      <td>96.517159</td>\n",
       "      <td>TeamA</td>\n",
       "      <td>Provider4</td>\n",
       "    </tr>\n",
       "    <tr>\n",
       "      <th>1</th>\n",
       "      <td>81</td>\n",
       "      <td>1</td>\n",
       "      <td>72.075938</td>\n",
       "      <td>103.065701</td>\n",
       "      <td>87.271062</td>\n",
       "      <td>TeamC</td>\n",
       "      <td>Provider4</td>\n",
       "    </tr>\n",
       "    <tr>\n",
       "      <th>2</th>\n",
       "      <td>60</td>\n",
       "      <td>0</td>\n",
       "      <td>96.272254</td>\n",
       "      <td>77.801376</td>\n",
       "      <td>112.196170</td>\n",
       "      <td>TeamA</td>\n",
       "      <td>Provider1</td>\n",
       "    </tr>\n",
       "    <tr>\n",
       "      <th>3</th>\n",
       "      <td>86</td>\n",
       "      <td>1</td>\n",
       "      <td>94.406461</td>\n",
       "      <td>108.493608</td>\n",
       "      <td>72.025374</td>\n",
       "      <td>TeamC</td>\n",
       "      <td>Provider2</td>\n",
       "    </tr>\n",
       "    <tr>\n",
       "      <th>4</th>\n",
       "      <td>34</td>\n",
       "      <td>0</td>\n",
       "      <td>97.752899</td>\n",
       "      <td>99.413492</td>\n",
       "      <td>103.756271</td>\n",
       "      <td>TeamB</td>\n",
       "      <td>Provider1</td>\n",
       "    </tr>\n",
       "  </tbody>\n",
       "</table>\n",
       "</div>"
      ],
      "text/plain": [
       "   lifetime  broken  pressureInd  moistureInd  temperatureInd   team  \\\n",
       "0        56       0    92.178854   104.230204       96.517159  TeamA   \n",
       "1        81       1    72.075938   103.065701       87.271062  TeamC   \n",
       "2        60       0    96.272254    77.801376      112.196170  TeamA   \n",
       "3        86       1    94.406461   108.493608       72.025374  TeamC   \n",
       "4        34       0    97.752899    99.413492      103.756271  TeamB   \n",
       "\n",
       "    provider  \n",
       "0  Provider4  \n",
       "1  Provider4  \n",
       "2  Provider1  \n",
       "3  Provider2  \n",
       "4  Provider1  "
      ]
     },
     "execution_count": 3,
     "metadata": {},
     "output_type": "execute_result"
    }
   ],
   "source": [
    "df = pd.read_csv('../Datasets/DATA_4.03_MNT.csv')\n",
    "df.head()"
   ]
  },
  {
   "cell_type": "code",
   "execution_count": 4,
   "id": "875427e7-f165-43e6-bfd3-666398d0cb7d",
   "metadata": {},
   "outputs": [
    {
     "name": "stdout",
     "output_type": "stream",
     "text": [
      "<class 'pandas.core.frame.DataFrame'>\n",
      "RangeIndex: 1000 entries, 0 to 999\n",
      "Data columns (total 7 columns):\n",
      " #   Column          Non-Null Count  Dtype  \n",
      "---  ------          --------------  -----  \n",
      " 0   lifetime        1000 non-null   int64  \n",
      " 1   broken          1000 non-null   int64  \n",
      " 2   pressureInd     1000 non-null   float64\n",
      " 3   moistureInd     1000 non-null   float64\n",
      " 4   temperatureInd  1000 non-null   float64\n",
      " 5   team            1000 non-null   object \n",
      " 6   provider        1000 non-null   object \n",
      "dtypes: float64(3), int64(2), object(2)\n",
      "memory usage: 54.8+ KB\n"
     ]
    }
   ],
   "source": [
    "df.info()"
   ]
  },
  {
   "cell_type": "code",
   "execution_count": 6,
   "id": "a50194a8-cc89-4976-9b04-8b79d62baf51",
   "metadata": {},
   "outputs": [
    {
     "data": {
      "text/html": [
       "<div>\n",
       "<style scoped>\n",
       "    .dataframe tbody tr th:only-of-type {\n",
       "        vertical-align: middle;\n",
       "    }\n",
       "\n",
       "    .dataframe tbody tr th {\n",
       "        vertical-align: top;\n",
       "    }\n",
       "\n",
       "    .dataframe thead th {\n",
       "        text-align: right;\n",
       "    }\n",
       "</style>\n",
       "<table border=\"1\" class=\"dataframe\">\n",
       "  <thead>\n",
       "    <tr style=\"text-align: right;\">\n",
       "      <th></th>\n",
       "      <th>count</th>\n",
       "      <th>mean</th>\n",
       "      <th>std</th>\n",
       "      <th>min</th>\n",
       "      <th>25%</th>\n",
       "      <th>50%</th>\n",
       "      <th>75%</th>\n",
       "      <th>max</th>\n",
       "    </tr>\n",
       "  </thead>\n",
       "  <tbody>\n",
       "    <tr>\n",
       "      <th>lifetime</th>\n",
       "      <td>1000.0</td>\n",
       "      <td>55.195000</td>\n",
       "      <td>26.472737</td>\n",
       "      <td>1.000000</td>\n",
       "      <td>34.000000</td>\n",
       "      <td>60.000000</td>\n",
       "      <td>80.000000</td>\n",
       "      <td>93.000000</td>\n",
       "    </tr>\n",
       "    <tr>\n",
       "      <th>broken</th>\n",
       "      <td>1000.0</td>\n",
       "      <td>0.397000</td>\n",
       "      <td>0.489521</td>\n",
       "      <td>0.000000</td>\n",
       "      <td>0.000000</td>\n",
       "      <td>0.000000</td>\n",
       "      <td>1.000000</td>\n",
       "      <td>1.000000</td>\n",
       "    </tr>\n",
       "    <tr>\n",
       "      <th>pressureInd</th>\n",
       "      <td>1000.0</td>\n",
       "      <td>98.599338</td>\n",
       "      <td>19.964052</td>\n",
       "      <td>33.481917</td>\n",
       "      <td>85.558076</td>\n",
       "      <td>97.216997</td>\n",
       "      <td>112.253190</td>\n",
       "      <td>173.282541</td>\n",
       "    </tr>\n",
       "    <tr>\n",
       "      <th>moistureInd</th>\n",
       "      <td>1000.0</td>\n",
       "      <td>99.376723</td>\n",
       "      <td>9.988726</td>\n",
       "      <td>58.547301</td>\n",
       "      <td>92.771764</td>\n",
       "      <td>99.433959</td>\n",
       "      <td>106.120762</td>\n",
       "      <td>128.595038</td>\n",
       "    </tr>\n",
       "    <tr>\n",
       "      <th>temperatureInd</th>\n",
       "      <td>1000.0</td>\n",
       "      <td>100.628541</td>\n",
       "      <td>19.633060</td>\n",
       "      <td>42.279598</td>\n",
       "      <td>87.676913</td>\n",
       "      <td>100.592277</td>\n",
       "      <td>113.662885</td>\n",
       "      <td>172.544140</td>\n",
       "    </tr>\n",
       "  </tbody>\n",
       "</table>\n",
       "</div>"
      ],
      "text/plain": [
       "                 count        mean        std        min        25%  \\\n",
       "lifetime        1000.0   55.195000  26.472737   1.000000  34.000000   \n",
       "broken          1000.0    0.397000   0.489521   0.000000   0.000000   \n",
       "pressureInd     1000.0   98.599338  19.964052  33.481917  85.558076   \n",
       "moistureInd     1000.0   99.376723   9.988726  58.547301  92.771764   \n",
       "temperatureInd  1000.0  100.628541  19.633060  42.279598  87.676913   \n",
       "\n",
       "                       50%         75%         max  \n",
       "lifetime         60.000000   80.000000   93.000000  \n",
       "broken            0.000000    1.000000    1.000000  \n",
       "pressureInd      97.216997  112.253190  173.282541  \n",
       "moistureInd      99.433959  106.120762  128.595038  \n",
       "temperatureInd  100.592277  113.662885  172.544140  "
      ]
     },
     "execution_count": 6,
     "metadata": {},
     "output_type": "execute_result"
    }
   ],
   "source": [
    "df.describe().T"
   ]
  },
  {
   "cell_type": "code",
   "execution_count": 7,
   "id": "bf0f4f50-570c-4843-95bd-79bf3821661c",
   "metadata": {},
   "outputs": [
    {
     "data": {
      "text/html": [
       "<div>\n",
       "<style scoped>\n",
       "    .dataframe tbody tr th:only-of-type {\n",
       "        vertical-align: middle;\n",
       "    }\n",
       "\n",
       "    .dataframe tbody tr th {\n",
       "        vertical-align: top;\n",
       "    }\n",
       "\n",
       "    .dataframe thead th {\n",
       "        text-align: right;\n",
       "    }\n",
       "</style>\n",
       "<table border=\"1\" class=\"dataframe\">\n",
       "  <thead>\n",
       "    <tr style=\"text-align: right;\">\n",
       "      <th></th>\n",
       "      <th>team</th>\n",
       "      <th>provider</th>\n",
       "    </tr>\n",
       "  </thead>\n",
       "  <tbody>\n",
       "    <tr>\n",
       "      <th>count</th>\n",
       "      <td>1000</td>\n",
       "      <td>1000</td>\n",
       "    </tr>\n",
       "    <tr>\n",
       "      <th>unique</th>\n",
       "      <td>3</td>\n",
       "      <td>4</td>\n",
       "    </tr>\n",
       "    <tr>\n",
       "      <th>top</th>\n",
       "      <td>TeamB</td>\n",
       "      <td>Provider2</td>\n",
       "    </tr>\n",
       "    <tr>\n",
       "      <th>freq</th>\n",
       "      <td>356</td>\n",
       "      <td>266</td>\n",
       "    </tr>\n",
       "  </tbody>\n",
       "</table>\n",
       "</div>"
      ],
      "text/plain": [
       "         team   provider\n",
       "count    1000       1000\n",
       "unique      3          4\n",
       "top     TeamB  Provider2\n",
       "freq      356        266"
      ]
     },
     "execution_count": 7,
     "metadata": {},
     "output_type": "execute_result"
    }
   ],
   "source": [
    "df.describe(include=['object'])"
   ]
  },
  {
   "cell_type": "code",
   "execution_count": 10,
   "id": "c86b4d34-0149-470b-87e1-da5c29ef587b",
   "metadata": {},
   "outputs": [],
   "source": [
    "# Build a linear regression model\n",
    "all_columns = \"+\".join(df.columns).replace('lifetime+', '')\n",
    "my_formula = 'lifetime~' + all_columns + '-broken'\n",
    "linregmodel = smf.ols(my_formula, data=df).fit()"
   ]
  },
  {
   "cell_type": "code",
   "execution_count": 14,
   "id": "84ddaca8-afb6-4362-a8a1-562911416cbb",
   "metadata": {},
   "outputs": [
    {
     "data": {
      "text/html": [
       "<table class=\"simpletable\">\n",
       "<caption>OLS Regression Results</caption>\n",
       "<tr>\n",
       "  <th>Dep. Variable:</th>        <td>lifetime</td>     <th>  R-squared:         </th> <td>   0.034</td>\n",
       "</tr>\n",
       "<tr>\n",
       "  <th>Model:</th>                   <td>OLS</td>       <th>  Adj. R-squared:    </th> <td>   0.026</td>\n",
       "</tr>\n",
       "<tr>\n",
       "  <th>Method:</th>             <td>Least Squares</td>  <th>  F-statistic:       </th> <td>   4.346</td>\n",
       "</tr>\n",
       "<tr>\n",
       "  <th>Date:</th>             <td>Tue, 04 May 2021</td> <th>  Prob (F-statistic):</th> <td>3.62e-05</td>\n",
       "</tr>\n",
       "<tr>\n",
       "  <th>Time:</th>                 <td>06:10:00</td>     <th>  Log-Likelihood:    </th> <td> -4677.3</td>\n",
       "</tr>\n",
       "<tr>\n",
       "  <th>No. Observations:</th>      <td>  1000</td>      <th>  AIC:               </th> <td>   9373.</td>\n",
       "</tr>\n",
       "<tr>\n",
       "  <th>Df Residuals:</th>          <td>   991</td>      <th>  BIC:               </th> <td>   9417.</td>\n",
       "</tr>\n",
       "<tr>\n",
       "  <th>Df Model:</th>              <td>     8</td>      <th>                     </th>     <td> </td>   \n",
       "</tr>\n",
       "<tr>\n",
       "  <th>Covariance Type:</th>      <td>nonrobust</td>    <th>                     </th>     <td> </td>   \n",
       "</tr>\n",
       "</table>\n",
       "<table class=\"simpletable\">\n",
       "<tr>\n",
       "            <td></td>               <th>coef</th>     <th>std err</th>      <th>t</th>      <th>P>|t|</th>  <th>[0.025</th>    <th>0.975]</th>  \n",
       "</tr>\n",
       "<tr>\n",
       "  <th>Intercept</th>             <td>   59.3732</td> <td>   10.341</td> <td>    5.741</td> <td> 0.000</td> <td>   39.080</td> <td>   79.666</td>\n",
       "</tr>\n",
       "<tr>\n",
       "  <th>team[T.TeamB]</th>         <td>    1.5491</td> <td>    1.998</td> <td>    0.775</td> <td> 0.438</td> <td>   -2.372</td> <td>    5.471</td>\n",
       "</tr>\n",
       "<tr>\n",
       "  <th>team[T.TeamC]</th>         <td>   -3.4280</td> <td>    2.067</td> <td>   -1.658</td> <td> 0.098</td> <td>   -7.484</td> <td>    0.628</td>\n",
       "</tr>\n",
       "<tr>\n",
       "  <th>provider[T.Provider2]</th> <td>    0.8836</td> <td>    2.294</td> <td>    0.385</td> <td> 0.700</td> <td>   -3.619</td> <td>    5.386</td>\n",
       "</tr>\n",
       "<tr>\n",
       "  <th>provider[T.Provider3]</th> <td>   -9.4858</td> <td>    2.349</td> <td>   -4.038</td> <td> 0.000</td> <td>  -14.096</td> <td>   -4.876</td>\n",
       "</tr>\n",
       "<tr>\n",
       "  <th>provider[T.Provider4]</th> <td>    1.8679</td> <td>    2.362</td> <td>    0.791</td> <td> 0.429</td> <td>   -2.766</td> <td>    6.502</td>\n",
       "</tr>\n",
       "<tr>\n",
       "  <th>pressureInd</th>           <td>   -0.0031</td> <td>    0.042</td> <td>   -0.076</td> <td> 0.940</td> <td>   -0.085</td> <td>    0.079</td>\n",
       "</tr>\n",
       "<tr>\n",
       "  <th>moistureInd</th>           <td>   -0.0173</td> <td>    0.083</td> <td>   -0.208</td> <td> 0.835</td> <td>   -0.180</td> <td>    0.146</td>\n",
       "</tr>\n",
       "<tr>\n",
       "  <th>temperatureInd</th>        <td>   -0.0003</td> <td>    0.042</td> <td>   -0.007</td> <td> 0.995</td> <td>   -0.083</td> <td>    0.082</td>\n",
       "</tr>\n",
       "</table>\n",
       "<table class=\"simpletable\">\n",
       "<tr>\n",
       "  <th>Omnibus:</th>       <td>247.903</td> <th>  Durbin-Watson:     </th> <td>   1.894</td>\n",
       "</tr>\n",
       "<tr>\n",
       "  <th>Prob(Omnibus):</th> <td> 0.000</td>  <th>  Jarque-Bera (JB):  </th> <td>  90.393</td>\n",
       "</tr>\n",
       "<tr>\n",
       "  <th>Skew:</th>          <td>-0.545</td>  <th>  Prob(JB):          </th> <td>2.35e-20</td>\n",
       "</tr>\n",
       "<tr>\n",
       "  <th>Kurtosis:</th>      <td> 2.009</td>  <th>  Cond. No.          </th> <td>2.17e+03</td>\n",
       "</tr>\n",
       "</table><br/><br/>Notes:<br/>[1] Standard Errors assume that the covariance matrix of the errors is correctly specified.<br/>[2] The condition number is large, 2.17e+03. This might indicate that there are<br/>strong multicollinearity or other numerical problems."
      ],
      "text/plain": [
       "<class 'statsmodels.iolib.summary.Summary'>\n",
       "\"\"\"\n",
       "                            OLS Regression Results                            \n",
       "==============================================================================\n",
       "Dep. Variable:               lifetime   R-squared:                       0.034\n",
       "Model:                            OLS   Adj. R-squared:                  0.026\n",
       "Method:                 Least Squares   F-statistic:                     4.346\n",
       "Date:                Tue, 04 May 2021   Prob (F-statistic):           3.62e-05\n",
       "Time:                        06:10:00   Log-Likelihood:                -4677.3\n",
       "No. Observations:                1000   AIC:                             9373.\n",
       "Df Residuals:                     991   BIC:                             9417.\n",
       "Df Model:                           8                                         \n",
       "Covariance Type:            nonrobust                                         \n",
       "=========================================================================================\n",
       "                            coef    std err          t      P>|t|      [0.025      0.975]\n",
       "-----------------------------------------------------------------------------------------\n",
       "Intercept                59.3732     10.341      5.741      0.000      39.080      79.666\n",
       "team[T.TeamB]             1.5491      1.998      0.775      0.438      -2.372       5.471\n",
       "team[T.TeamC]            -3.4280      2.067     -1.658      0.098      -7.484       0.628\n",
       "provider[T.Provider2]     0.8836      2.294      0.385      0.700      -3.619       5.386\n",
       "provider[T.Provider3]    -9.4858      2.349     -4.038      0.000     -14.096      -4.876\n",
       "provider[T.Provider4]     1.8679      2.362      0.791      0.429      -2.766       6.502\n",
       "pressureInd              -0.0031      0.042     -0.076      0.940      -0.085       0.079\n",
       "moistureInd              -0.0173      0.083     -0.208      0.835      -0.180       0.146\n",
       "temperatureInd           -0.0003      0.042     -0.007      0.995      -0.083       0.082\n",
       "==============================================================================\n",
       "Omnibus:                      247.903   Durbin-Watson:                   1.894\n",
       "Prob(Omnibus):                  0.000   Jarque-Bera (JB):               90.393\n",
       "Skew:                          -0.545   Prob(JB):                     2.35e-20\n",
       "Kurtosis:                       2.009   Cond. No.                     2.17e+03\n",
       "==============================================================================\n",
       "\n",
       "Notes:\n",
       "[1] Standard Errors assume that the covariance matrix of the errors is correctly specified.\n",
       "[2] The condition number is large, 2.17e+03. This might indicate that there are\n",
       "strong multicollinearity or other numerical problems.\n",
       "\"\"\""
      ]
     },
     "execution_count": 14,
     "metadata": {},
     "output_type": "execute_result"
    }
   ],
   "source": [
    "linregmodel.summary()"
   ]
  },
  {
   "cell_type": "markdown",
   "id": "c560d0a6-e7f9-40c0-8daf-b5ae46f20f3c",
   "metadata": {},
   "source": [
    "What we see is that It looks like the fact that team C which was in charge of the maintenance of the piece is statistically significant, as well as the fact that the piece was provided by provider number three. And both of them seem to impact negatively on the lifetime if we look at the co efficient and its sign.\n",
    "\n",
    "However, using the output of a linear regression in this case is inaccurate. We cannot rely on the output of the linear regression model for a very simple reason:60% of the observations are PC's that are still working. The lifetime represented by those is not the lifetime until the PC was broken, but rather, the lifetime until now. So the truth is, we don't really know what the final value of lifetime will be for PCs that are not broken yet. All we know is that they are still working until now.  \n",
    "\n",
    "This is what we call a **right-censored problem**.\n",
    "\n",
    "**Right censoring** occurs when a subject leaves the study before an event occurs, or the study ends before the event has occurred.\n",
    "We tackle this kind of problems with a survival analysis."
   ]
  },
  {
   "cell_type": "code",
   "execution_count": 16,
   "id": "6e247355-678a-4ee1-b1d8-12ce226b0bd3",
   "metadata": {},
   "outputs": [],
   "source": [
    "# Create the object for KaplanMeierFitter\n",
    "kmf = KaplanMeierFitter()"
   ]
  },
  {
   "cell_type": "code",
   "execution_count": 34,
   "id": "b0dc7aa7-16bd-4d22-8cc5-a4379f940385",
   "metadata": {},
   "outputs": [
    {
     "data": {
      "text/plain": [
       "<lifelines.KaplanMeierFitter:\"Kaplan Meier Estimate\", fitted with 1000 total observations, 603 right-censored observations>"
      ]
     },
     "execution_count": 34,
     "metadata": {},
     "output_type": "execute_result"
    }
   ],
   "source": [
    "# Fit the data into the model\n",
    "kmf.fit_right_censoring(df['lifetime'], df['broken'], label='Kaplan Meier Estimate')"
   ]
  },
  {
   "cell_type": "code",
   "execution_count": 35,
   "id": "eb578aef-c6b6-49fa-8421-4c8addd46268",
   "metadata": {},
   "outputs": [
    {
     "data": {
      "text/plain": [
       "Text(0, 0.5, \"Probability of PC's still Working\")"
      ]
     },
     "execution_count": 35,
     "metadata": {},
     "output_type": "execute_result"
    },
    {
     "data": {
      "image/png": "[encoded data removed]",
      "text/plain": [
       "<Figure size 864x576 with 1 Axes>"
      ]
     },
     "metadata": {},
     "output_type": "display_data"
    }
   ],
   "source": [
    "kmf.plot()\n",
    "plt.title('The Kaplan-Meier Estimate')\n",
    "plt.ylabel(\"Probability of PC's still Working\");"
   ]
  },
  {
   "cell_type": "markdown",
   "id": "b7de660b-b4a3-4d45-a59f-15cc0e90138d",
   "metadata": {},
   "source": [
    "I didn't find any module that replicates the survival R package. So I used the python library lifelines. I'm not sure if the results are similar"
   ]
  }
 ],
 "metadata": {
  "kernelspec": {
   "display_name": "Python 3",
   "language": "python",
   "name": "python3"
  },
  "language_info": {
   "codemirror_mode": {
    "name": "ipython",
    "version": 3
   },
   "file_extension": ".py",
   "mimetype": "text/x-python",
   "name": "python",
   "nbconvert_exporter": "python",
   "pygments_lexer": "ipython3",
   "version": "3.9.4"
  }
 },
 "nbformat": 4,
 "nbformat_minor": 5
}
