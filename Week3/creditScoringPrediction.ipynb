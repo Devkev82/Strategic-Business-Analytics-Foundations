{
 "cells": [
  {
   "cell_type": "code",
   "execution_count": 13,
   "id": "2d8426e9-bef0-4654-a700-98bbb3307da7",
   "metadata": {},
   "outputs": [],
   "source": [
    "import numpy as np\n",
    "import pandas as pd\n",
    "import statsmodels.formula.api as smf\n",
    "import matplotlib.pyplot as plt"
   ]
  },
  {
   "cell_type": "code",
   "execution_count": 21,
   "id": "3ba1ae11-f694-4374-b8b6-1ad6ab7c1daf",
   "metadata": {},
   "outputs": [],
   "source": [
    "plt.rcParams[\"figure.figsize\"] = (12,8)\n",
    "plt.style.use('Solarize_Light2')"
   ]
  },
  {
   "cell_type": "markdown",
   "id": "2aa76f06-9478-4e1e-adb7-e7f947357d90",
   "metadata": {},
   "source": [
    "# Prediction Credit Scoring"
   ]
  },
  {
   "cell_type": "code",
   "execution_count": 7,
   "id": "455e23b3-0307-4927-b709-4a9b5839297c",
   "metadata": {},
   "outputs": [],
   "source": [
    "df_old = pd.read_csv('../Datasets/DATA_3.01_CREDIT.csv')\n",
    "df = pd.read_csv('../Datasets/DATA_4.01_CREDIT2.csv')"
   ]
  },
  {
   "cell_type": "code",
   "execution_count": 8,
   "id": "3cf0e78d-41e6-4050-a27a-17a5868259ec",
   "metadata": {},
   "outputs": [
    {
     "data": {
      "text/html": [
       "<div>\n",
       "<style scoped>\n",
       "    .dataframe tbody tr th:only-of-type {\n",
       "        vertical-align: middle;\n",
       "    }\n",
       "\n",
       "    .dataframe tbody tr th {\n",
       "        vertical-align: top;\n",
       "    }\n",
       "\n",
       "    .dataframe thead th {\n",
       "        text-align: right;\n",
       "    }\n",
       "</style>\n",
       "<table border=\"1\" class=\"dataframe\">\n",
       "  <thead>\n",
       "    <tr style=\"text-align: right;\">\n",
       "      <th></th>\n",
       "      <th>Income</th>\n",
       "      <th>Rating</th>\n",
       "      <th>Cards</th>\n",
       "      <th>Age</th>\n",
       "      <th>Education</th>\n",
       "      <th>Gender</th>\n",
       "      <th>Student</th>\n",
       "      <th>Married</th>\n",
       "      <th>Ethnicity</th>\n",
       "      <th>Balance</th>\n",
       "    </tr>\n",
       "  </thead>\n",
       "  <tbody>\n",
       "    <tr>\n",
       "      <th>0</th>\n",
       "      <td>21.786</td>\n",
       "      <td>355</td>\n",
       "      <td>1</td>\n",
       "      <td>50</td>\n",
       "      <td>17</td>\n",
       "      <td>Male</td>\n",
       "      <td>No</td>\n",
       "      <td>Yes</td>\n",
       "      <td>Caucasian</td>\n",
       "      <td>580</td>\n",
       "    </tr>\n",
       "    <tr>\n",
       "      <th>1</th>\n",
       "      <td>31.335</td>\n",
       "      <td>289</td>\n",
       "      <td>3</td>\n",
       "      <td>38</td>\n",
       "      <td>7</td>\n",
       "      <td>Female</td>\n",
       "      <td>No</td>\n",
       "      <td>No</td>\n",
       "      <td>Caucasian</td>\n",
       "      <td>172</td>\n",
       "    </tr>\n",
       "    <tr>\n",
       "      <th>2</th>\n",
       "      <td>59.855</td>\n",
       "      <td>365</td>\n",
       "      <td>1</td>\n",
       "      <td>46</td>\n",
       "      <td>13</td>\n",
       "      <td>Female</td>\n",
       "      <td>No</td>\n",
       "      <td>Yes</td>\n",
       "      <td>Caucasian</td>\n",
       "      <td>295</td>\n",
       "    </tr>\n",
       "    <tr>\n",
       "      <th>3</th>\n",
       "      <td>44.061</td>\n",
       "      <td>352</td>\n",
       "      <td>1</td>\n",
       "      <td>79</td>\n",
       "      <td>11</td>\n",
       "      <td>Male</td>\n",
       "      <td>No</td>\n",
       "      <td>Yes</td>\n",
       "      <td>African American</td>\n",
       "      <td>414</td>\n",
       "    </tr>\n",
       "    <tr>\n",
       "      <th>4</th>\n",
       "      <td>82.706</td>\n",
       "      <td>536</td>\n",
       "      <td>2</td>\n",
       "      <td>64</td>\n",
       "      <td>13</td>\n",
       "      <td>Female</td>\n",
       "      <td>No</td>\n",
       "      <td>Yes</td>\n",
       "      <td>Asian</td>\n",
       "      <td>905</td>\n",
       "    </tr>\n",
       "  </tbody>\n",
       "</table>\n",
       "</div>"
      ],
      "text/plain": [
       "   Income  Rating  Cards  Age  Education  Gender Student Married  \\\n",
       "0  21.786     355      1   50         17    Male      No     Yes   \n",
       "1  31.335     289      3   38          7  Female      No      No   \n",
       "2  59.855     365      1   46         13  Female      No     Yes   \n",
       "3  44.061     352      1   79         11    Male      No     Yes   \n",
       "4  82.706     536      2   64         13  Female      No     Yes   \n",
       "\n",
       "          Ethnicity  Balance  \n",
       "0         Caucasian      580  \n",
       "1         Caucasian      172  \n",
       "2         Caucasian      295  \n",
       "3  African American      414  \n",
       "4             Asian      905  "
      ]
     },
     "execution_count": 8,
     "metadata": {},
     "output_type": "execute_result"
    }
   ],
   "source": [
    "df.head()"
   ]
  },
  {
   "cell_type": "code",
   "execution_count": 9,
   "id": "11ed45bf-04a7-425d-b576-e03bc93144a3",
   "metadata": {},
   "outputs": [
    {
     "name": "stdout",
     "output_type": "stream",
     "text": [
      "<class 'pandas.core.frame.DataFrame'>\n",
      "RangeIndex: 100 entries, 0 to 99\n",
      "Data columns (total 10 columns):\n",
      " #   Column     Non-Null Count  Dtype  \n",
      "---  ------     --------------  -----  \n",
      " 0   Income     100 non-null    float64\n",
      " 1   Rating     100 non-null    int64  \n",
      " 2   Cards      100 non-null    int64  \n",
      " 3   Age        100 non-null    int64  \n",
      " 4   Education  100 non-null    int64  \n",
      " 5   Gender     100 non-null    object \n",
      " 6   Student    100 non-null    object \n",
      " 7   Married    100 non-null    object \n",
      " 8   Ethnicity  100 non-null    object \n",
      " 9   Balance    100 non-null    int64  \n",
      "dtypes: float64(1), int64(5), object(4)\n",
      "memory usage: 7.9+ KB\n"
     ]
    }
   ],
   "source": [
    "df.info()"
   ]
  },
  {
   "cell_type": "code",
   "execution_count": 10,
   "id": "8cc8e2c4-c49d-4335-8aab-5be2e3c36811",
   "metadata": {},
   "outputs": [
    {
     "data": {
      "text/html": [
       "<div>\n",
       "<style scoped>\n",
       "    .dataframe tbody tr th:only-of-type {\n",
       "        vertical-align: middle;\n",
       "    }\n",
       "\n",
       "    .dataframe tbody tr th {\n",
       "        vertical-align: top;\n",
       "    }\n",
       "\n",
       "    .dataframe thead th {\n",
       "        text-align: right;\n",
       "    }\n",
       "</style>\n",
       "<table border=\"1\" class=\"dataframe\">\n",
       "  <thead>\n",
       "    <tr style=\"text-align: right;\">\n",
       "      <th></th>\n",
       "      <th>Income</th>\n",
       "      <th>Rating</th>\n",
       "      <th>Cards</th>\n",
       "      <th>Age</th>\n",
       "      <th>Education</th>\n",
       "      <th>Balance</th>\n",
       "    </tr>\n",
       "  </thead>\n",
       "  <tbody>\n",
       "    <tr>\n",
       "      <th>count</th>\n",
       "      <td>100.000000</td>\n",
       "      <td>100.000000</td>\n",
       "      <td>100.000000</td>\n",
       "      <td>100.000000</td>\n",
       "      <td>100.000000</td>\n",
       "      <td>100.000000</td>\n",
       "    </tr>\n",
       "    <tr>\n",
       "      <th>mean</th>\n",
       "      <td>48.712360</td>\n",
       "      <td>375.410000</td>\n",
       "      <td>2.750000</td>\n",
       "      <td>57.720000</td>\n",
       "      <td>13.620000</td>\n",
       "      <td>572.000000</td>\n",
       "    </tr>\n",
       "    <tr>\n",
       "      <th>std</th>\n",
       "      <td>39.071113</td>\n",
       "      <td>164.841834</td>\n",
       "      <td>1.416889</td>\n",
       "      <td>17.271498</td>\n",
       "      <td>3.280737</td>\n",
       "      <td>435.465199</td>\n",
       "    </tr>\n",
       "    <tr>\n",
       "      <th>min</th>\n",
       "      <td>10.735000</td>\n",
       "      <td>112.000000</td>\n",
       "      <td>1.000000</td>\n",
       "      <td>23.000000</td>\n",
       "      <td>6.000000</td>\n",
       "      <td>0.000000</td>\n",
       "    </tr>\n",
       "    <tr>\n",
       "      <th>25%</th>\n",
       "      <td>21.001750</td>\n",
       "      <td>282.000000</td>\n",
       "      <td>2.000000</td>\n",
       "      <td>44.000000</td>\n",
       "      <td>11.000000</td>\n",
       "      <td>191.000000</td>\n",
       "    </tr>\n",
       "    <tr>\n",
       "      <th>50%</th>\n",
       "      <td>33.275000</td>\n",
       "      <td>363.000000</td>\n",
       "      <td>3.000000</td>\n",
       "      <td>57.500000</td>\n",
       "      <td>14.000000</td>\n",
       "      <td>579.000000</td>\n",
       "    </tr>\n",
       "    <tr>\n",
       "      <th>75%</th>\n",
       "      <td>61.797000</td>\n",
       "      <td>448.000000</td>\n",
       "      <td>3.000000</td>\n",
       "      <td>71.000000</td>\n",
       "      <td>16.000000</td>\n",
       "      <td>890.000000</td>\n",
       "    </tr>\n",
       "    <tr>\n",
       "      <th>max</th>\n",
       "      <td>182.728000</td>\n",
       "      <td>982.000000</td>\n",
       "      <td>9.000000</td>\n",
       "      <td>98.000000</td>\n",
       "      <td>19.000000</td>\n",
       "      <td>1999.000000</td>\n",
       "    </tr>\n",
       "  </tbody>\n",
       "</table>\n",
       "</div>"
      ],
      "text/plain": [
       "           Income      Rating       Cards         Age   Education      Balance\n",
       "count  100.000000  100.000000  100.000000  100.000000  100.000000   100.000000\n",
       "mean    48.712360  375.410000    2.750000   57.720000   13.620000   572.000000\n",
       "std     39.071113  164.841834    1.416889   17.271498    3.280737   435.465199\n",
       "min     10.735000  112.000000    1.000000   23.000000    6.000000     0.000000\n",
       "25%     21.001750  282.000000    2.000000   44.000000   11.000000   191.000000\n",
       "50%     33.275000  363.000000    3.000000   57.500000   14.000000   579.000000\n",
       "75%     61.797000  448.000000    3.000000   71.000000   16.000000   890.000000\n",
       "max    182.728000  982.000000    9.000000   98.000000   19.000000  1999.000000"
      ]
     },
     "execution_count": 10,
     "metadata": {},
     "output_type": "execute_result"
    }
   ],
   "source": [
    "df.describe()"
   ]
  },
  {
   "cell_type": "code",
   "execution_count": 11,
   "id": "941c875d-41b9-4df0-8474-d54893c1c749",
   "metadata": {},
   "outputs": [
    {
     "data": {
      "text/html": [
       "<div>\n",
       "<style scoped>\n",
       "    .dataframe tbody tr th:only-of-type {\n",
       "        vertical-align: middle;\n",
       "    }\n",
       "\n",
       "    .dataframe tbody tr th {\n",
       "        vertical-align: top;\n",
       "    }\n",
       "\n",
       "    .dataframe thead th {\n",
       "        text-align: right;\n",
       "    }\n",
       "</style>\n",
       "<table border=\"1\" class=\"dataframe\">\n",
       "  <thead>\n",
       "    <tr style=\"text-align: right;\">\n",
       "      <th></th>\n",
       "      <th>Gender</th>\n",
       "      <th>Student</th>\n",
       "      <th>Married</th>\n",
       "      <th>Ethnicity</th>\n",
       "    </tr>\n",
       "  </thead>\n",
       "  <tbody>\n",
       "    <tr>\n",
       "      <th>count</th>\n",
       "      <td>100</td>\n",
       "      <td>100</td>\n",
       "      <td>100</td>\n",
       "      <td>100</td>\n",
       "    </tr>\n",
       "    <tr>\n",
       "      <th>unique</th>\n",
       "      <td>2</td>\n",
       "      <td>2</td>\n",
       "      <td>2</td>\n",
       "      <td>3</td>\n",
       "    </tr>\n",
       "    <tr>\n",
       "      <th>top</th>\n",
       "      <td>Male</td>\n",
       "      <td>No</td>\n",
       "      <td>Yes</td>\n",
       "      <td>Caucasian</td>\n",
       "    </tr>\n",
       "    <tr>\n",
       "      <th>freq</th>\n",
       "      <td>61</td>\n",
       "      <td>92</td>\n",
       "      <td>62</td>\n",
       "      <td>58</td>\n",
       "    </tr>\n",
       "  </tbody>\n",
       "</table>\n",
       "</div>"
      ],
      "text/plain": [
       "       Gender Student Married  Ethnicity\n",
       "count     100     100     100        100\n",
       "unique      2       2       2          3\n",
       "top      Male      No     Yes  Caucasian\n",
       "freq       61      92      62         58"
      ]
     },
     "execution_count": 11,
     "metadata": {},
     "output_type": "execute_result"
    }
   ],
   "source": [
    "# summary statistics for object dtypes:\n",
    "df.describe(include=['object'])"
   ]
  },
  {
   "cell_type": "code",
   "execution_count": 14,
   "id": "1c14969a-26fa-46e2-9e2d-421b2d35f086",
   "metadata": {},
   "outputs": [],
   "source": [
    "# Estimate a linear regression model of Rating from the old dataset \n",
    "# as a function of everything else\n",
    "all_columns = \"+\".join(df_old.columns).replace('Rating+', '')\n",
    "my_formula = 'Rating~' + all_columns\n",
    "linreg = smf.ols(my_formula, data=df_old).fit()"
   ]
  },
  {
   "cell_type": "code",
   "execution_count": 16,
   "id": "5ecead32-b6b3-446d-9b19-f710b3d29e06",
   "metadata": {},
   "outputs": [],
   "source": [
    "predcreditscore = linreg.predict(df)"
   ]
  },
  {
   "cell_type": "code",
   "execution_count": 17,
   "id": "32ebd7c5-5abb-4d74-99e1-6a0928e22fbd",
   "metadata": {},
   "outputs": [
    {
     "data": {
      "text/plain": [
       "0.9867324157146664"
      ]
     },
     "execution_count": 17,
     "metadata": {},
     "output_type": "execute_result"
    }
   ],
   "source": [
    "# Compute the correlation between the fitted values and the actual ones\n",
    "np.corrcoef(df_old['Rating'], linreg.fittedvalues)[1,0]"
   ]
  },
  {
   "cell_type": "code",
   "execution_count": 22,
   "id": "4d893637-eb38-4e9e-8db9-962f01e4793f",
   "metadata": {},
   "outputs": [
    {
     "data": {
      "image/png": "[encoded data removed]",
      "text/plain": [
       "<Figure size 864x576 with 1 Axes>"
      ]
     },
     "metadata": {},
     "output_type": "display_data"
    }
   ],
   "source": [
    "# plot the fitted values vs the actual values:\n",
    "plt.scatter(df_old['Rating'], linreg.fittedvalues)\n",
    "plt.xlabel('Rating Old Data')\n",
    "plt.ylabel('Fitted Rating');"
   ]
  },
  {
   "cell_type": "code",
   "execution_count": 23,
   "id": "8e926961-5ae8-4739-b6aa-01be5fa1a3b8",
   "metadata": {},
   "outputs": [
    {
     "data": {
      "text/plain": [
       "0.9880970401112148"
      ]
     },
     "execution_count": 23,
     "metadata": {},
     "output_type": "execute_result"
    }
   ],
   "source": [
    "# Computes the correlation coefficient between the fitted values and the actual ones\n",
    "np.corrcoef(predcreditscore, df['Rating'])[1,0]"
   ]
  },
  {
   "cell_type": "code",
   "execution_count": 24,
   "id": "2fb5df01-acec-4d6a-96b3-c515fdb67999",
   "metadata": {},
   "outputs": [
    {
     "data": {
      "image/png": "[encoded data removed]",
      "text/plain": [
       "<Figure size 864x576 with 1 Axes>"
      ]
     },
     "metadata": {},
     "output_type": "display_data"
    }
   ],
   "source": [
    "# Plot the fitted values vs. the actual ones\n",
    "plt.scatter(df['Rating'], predcreditscore)\n",
    "plt.xlabel('Actual Rating')\n",
    "plt.ylabel('Fitted Rating');"
   ]
  },
  {
   "cell_type": "code",
   "execution_count": 26,
   "id": "89c07341-7aee-4edc-8f1d-a1c5f7ce1a8d",
   "metadata": {},
   "outputs": [
    {
     "data": {
      "text/plain": [
       "count     100.000000\n",
       "mean      377.051464\n",
       "std       162.221077\n",
       "min        91.832483\n",
       "25%       264.904719\n",
       "50%       347.840375\n",
       "75%       442.047402\n",
       "max      1002.233103\n",
       "dtype: float64"
      ]
     },
     "execution_count": 26,
     "metadata": {},
     "output_type": "execute_result"
    }
   ],
   "source": [
    "predcreditscore.by"
   ]
  },
  {
   "cell_type": "code",
   "execution_count": 28,
   "id": "a82c6b96-83f1-416b-ada1-72c011e23451",
   "metadata": {},
   "outputs": [
    {
     "data": {
      "text/plain": [
       "Income                 16.279\n",
       "Rating                    126\n",
       "Cards                       3\n",
       "Age                        78\n",
       "Education                  13\n",
       "Gender                   Male\n",
       "Student                   Yes\n",
       "Married                   Yes\n",
       "Ethnicity    African American\n",
       "Balance                     5\n",
       "Name: 20, dtype: object"
      ]
     },
     "execution_count": 28,
     "metadata": {},
     "output_type": "execute_result"
    }
   ],
   "source": [
    "# The minimum predicted score goes to:\n",
    "df_new.iloc[predcreditscore.idxmin()]"
   ]
  },
  {
   "cell_type": "code",
   "execution_count": 29,
   "id": "e8022eb4-e0ef-46c3-9a2c-346f66017f8f",
   "metadata": {},
   "outputs": [
    {
     "data": {
      "text/plain": [
       "Income         182.728\n",
       "Rating             982\n",
       "Cards                4\n",
       "Age                 98\n",
       "Education           17\n",
       "Gender            Male\n",
       "Student             No\n",
       "Married            Yes\n",
       "Ethnicity    Caucasian\n",
       "Balance           1999\n",
       "Name: 23, dtype: object"
      ]
     },
     "execution_count": 29,
     "metadata": {},
     "output_type": "execute_result"
    }
   ],
   "source": [
    "# The maximum predict score:\n",
    "df_new.iloc[predcreditscore.idxmax()]"
   ]
  },
  {
   "cell_type": "markdown",
   "id": "508b5da4-2c56-468b-a3ba-1143b7a635c5",
   "metadata": {},
   "source": []
  },
  {
   "cell_type": "code",
   "execution_count": null,
   "id": "043b5c6a-9a64-418a-a8ab-ce64cef9b8b2",
   "metadata": {},
   "outputs": [],
   "source": []
  }
 ],
 "metadata": {
  "kernelspec": {
   "display_name": "Python 3",
   "language": "python",
   "name": "python3"
  },
  "language_info": {
   "codemirror_mode": {
    "name": "ipython",
    "version": 3
   },
   "file_extension": ".py",
   "mimetype": "text/x-python",
   "name": "python",
   "nbconvert_exporter": "python",
   "pygments_lexer": "ipython3",
   "version": "3.9.4"
  }
 },
 "nbformat": 4,
 "nbformat_minor": 5
}
